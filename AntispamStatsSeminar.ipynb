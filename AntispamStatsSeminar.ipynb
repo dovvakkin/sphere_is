{
 "cells": [
  {
   "cell_type": "markdown",
   "metadata": {},
   "source": [
    "# ** Описание **"
   ]
  },
  {
   "cell_type": "raw",
   "metadata": {},
   "source": [
    "Построить графики распределения в спам и не спам множествах следующих признаков:\n",
    "\n",
    "1\tКоличество слов на странице\n",
    "2\tСредняя длинна слова\n",
    "3\tКоличество слов в заголовке страниц (слова в теге <html><head><title> Some text </title>)\n",
    "4\tКоличество слов в анкорах ссылок (<html><body><a> Some text </a>)\n",
    "5\tКоэффициент сжатия\n",
    "\n",
    "Нужно посчитать статистику минимум по трем признакам и обязательно сделать для 1-го и 2-го признаков\n",
    "\n",
    "И отправить первое решение в соревнование https://kaggle.com/join/antispam_infopoisk\n",
    "На основании одного из указанных выше признаков попытаться разделить мн-во, так чтобы score в соревновании был больше 0.55\n",
    "\n",
    "При выполнении всех этих условия в течении семинара +1 балл к ДЗ\n",
    "\n",
    "Описание ДЗ и правил выставления за него баллов в https://inclass.kaggle.com/c/antispam-infopoisk  \n",
    "Сроки ДЗ уточнить у преподователя - обычно 2 недели"
   ]
  },
  {
   "cell_type": "code",
   "execution_count": 3,
   "metadata": {},
   "outputs": [],
   "source": [
    "from __future__ import division\n",
    "\n",
    "import base64\n",
    "import csv\n",
    "import gzip\n",
    "import zlib\n",
    "\n",
    "from collections import namedtuple\n",
    "\n",
    "%matplotlib inline\n",
    "import matplotlib.pyplot as plt\n",
    "\n",
    "import numpy as np"
   ]
  },
  {
   "cell_type": "code",
   "execution_count": 4,
   "metadata": {},
   "outputs": [],
   "source": [
    "TRACE_NUM = 1000\n",
    "import logging\n",
    "reload(logging)\n",
    "logging.basicConfig(format='%(asctime)s %(levelname)s:%(message)s', level=logging.INFO, datefmt='%H:%M:%S')\n",
    "\n",
    "def trace(items_num, trace_num=TRACE_NUM):\n",
    "    if items_num % trace_num == 0: logging.info(\"Complete items %05d\" % items_num)"
   ]
  },
  {
   "cell_type": "markdown",
   "metadata": {},
   "source": [
    "### Утилиты"
   ]
  },
  {
   "cell_type": "markdown",
   "metadata": {},
   "source": [
    "#### Декораторы"
   ]
  },
  {
   "cell_type": "code",
   "execution_count": 5,
   "metadata": {},
   "outputs": [],
   "source": [
    "def to_utf8(text):\n",
    "    if isinstance(text, unicode): text = text.encode('utf8')\n",
    "    return text\n",
    "\n",
    "def convert2unicode(f):\n",
    "    def tmp(text):\n",
    "        if not isinstance(text, unicode): text = text.decode('utf8')\n",
    "        return f(text)\n",
    "    return tmp\n",
    "\n",
    "def convert2lower(f):\n",
    "    def tmp(text):        \n",
    "        return f(text.lower())\n",
    "    return tmp\n",
    "\n",
    "#P.S. Декораторы могут усложнять отладку, так что от них вполне можно отказаться и воспользоваться copy-paste"
   ]
  },
  {
   "cell_type": "markdown",
   "metadata": {},
   "source": [
    "### Извлечение текста из html"
   ]
  },
  {
   "cell_type": "markdown",
   "metadata": {},
   "source": [
    "#### Извлечение текста при помощи встроенных модулей"
   ]
  },
  {
   "cell_type": "code",
   "execution_count": 290,
   "metadata": {},
   "outputs": [],
   "source": [
    "from HTMLParser import HTMLParser\n",
    "import re\n",
    "\n",
    "###Извлечение текста из title можно вписать сюда\n",
    "\n",
    "class TextHTMLParser(HTMLParser):\n",
    "    def __init__(self):\n",
    "        HTMLParser.__init__(self)\n",
    "        self._text = []\n",
    "        self._title = \"\"\n",
    "        self._anchor = []\n",
    "        self._in_title = False\n",
    "        self._in_anchor = False\n",
    "        self._tables = 0\n",
    "        self._imgs = 0\n",
    "        self._js = 0\n",
    "        self._div = 0\n",
    "\n",
    "    def handle_data(self, data):\n",
    "        text = data.strip()\n",
    "        if len(text) > 0:\n",
    "            text = re.sub('[ \\t\\r\\n]+', ' ', text)\n",
    "            self._text.append(text + ' ')\n",
    "            \n",
    "        if self._in_title == True:\n",
    "            self._title += text\n",
    "            self._in_title = False\n",
    "        elif self._in_anchor == True:\n",
    "            self._anchor.append(text)\n",
    "            self._in_anchor = False\n",
    "        \n",
    "\n",
    "    def handle_starttag(self, tag, attrs):\n",
    "        if tag == 'p':\n",
    "            self._text.append('\\n\\n')\n",
    "        elif tag == 'br':\n",
    "            self._text.append('\\n')\n",
    "        elif tag == 'title':\n",
    "            self._in_title = True\n",
    "        elif tag == 'a':\n",
    "            self._in_anchor = True\n",
    "        elif tag == 'table':\n",
    "            self._tables += 1\n",
    "        elif tag == 'img':\n",
    "            self._imgs += 1\n",
    "        elif tag == 'script':\n",
    "            self._js += 1\n",
    "        elif tag == 'div':\n",
    "            self._div += 1\n",
    "\n",
    "    def handle_startendtag(self, tag, attrs):\n",
    "        if tag == 'br':\n",
    "            self._text.append('\\n\\n')            \n",
    "\n",
    "    def text(self):\n",
    "        return ''.join(self._text).strip()\n",
    "    \n",
    "    def title(self):\n",
    "        return ''.join(self._title).strip()\n",
    "    \n",
    "    def anchor(self):\n",
    "        return self._anchor\n",
    "    \n",
    "    def tables(self):\n",
    "        return self._tables\n",
    "    \n",
    "    def imgs(self):\n",
    "        return self._imgs\n",
    "    \n",
    "    def js(self):\n",
    "        return self._js\n",
    "    \n",
    "    def div(self):\n",
    "        return self._div\n",
    "\n",
    "@convert2unicode\n",
    "def html2text_parser(text):\n",
    "    parser = TextHTMLParser()\n",
    "    parser.feed(text)\n",
    "    return {\"text\": parser.text(),\n",
    "            \"title\": parser.title(),\n",
    "            \"anchor\": parser.anchor(),\n",
    "            \"tables\": parser.tables(),\n",
    "            \"imgs\": parser.imgs(),\n",
    "            \"js\": parser.js(),\n",
    "            \"div\": parser.div()}"
   ]
  },
  {
   "cell_type": "markdown",
   "metadata": {},
   "source": [
    "#### Извлечение текста при помощи дополнительных библиотек"
   ]
  },
  {
   "cell_type": "code",
   "execution_count": 291,
   "metadata": {},
   "outputs": [],
   "source": [
    "def html2text_bs(raw_html):\n",
    "    from bs4 import BeautifulSoup\n",
    "    \"\"\"\n",
    "    Тут производится извлечения из html текста\n",
    "    \"\"\"\n",
    "    soup = BeautifulSoup(raw_html, \"html.parser\")\n",
    "    [s.extract() for s in soup(['script', 'style'])]\n",
    "    return soup.get_text()\n",
    "\n",
    "def html2text_bs_visible(raw_html):\n",
    "    from bs4 import BeautifulSoup\n",
    "    \"\"\"\n",
    "    Тут производится извлечения из html текста, который видим пользователю\n",
    "    \"\"\"\n",
    "    soup = BeautifulSoup(raw_html, \"html.parser\")    \n",
    "    [s.extract() for s in soup(['style', 'script', '[document]', 'head', 'title'])]\n",
    "    return soup.get_text()\n",
    "\n",
    "def html2text_boilerpipe(raw_html):\n",
    "    import boilerpipe\n",
    "    \"\"\"\n",
    "    еще одна библиотека очень хорошо извлекающая именно видимый пользователю текст,\n",
    "    но она завязана на java\n",
    "    \"\"\"\n",
    "    pass"
   ]
  },
  {
   "cell_type": "markdown",
   "metadata": {},
   "source": [
    "#### Выбираем какой метод для конвертации html в текст будет основным"
   ]
  },
  {
   "cell_type": "code",
   "execution_count": 292,
   "metadata": {},
   "outputs": [],
   "source": [
    "#html2text = html2text_bs\n",
    "html2text = html2text_parser"
   ]
  },
  {
   "cell_type": "markdown",
   "metadata": {},
   "source": [
    "#### Методы для токенизации текста"
   ]
  },
  {
   "cell_type": "code",
   "execution_count": 293,
   "metadata": {},
   "outputs": [],
   "source": [
    "@convert2lower\n",
    "@convert2unicode\n",
    "def easy_tokenizer(text):\n",
    "    word = unicode()\n",
    "    for symbol in text:\n",
    "        if symbol.isalnum(): word += symbol\n",
    "        elif word:\n",
    "            yield word\n",
    "            word = unicode()\n",
    "    if word: yield word\n",
    "\n",
    "PYMORPHY_CACHE = {}\n",
    "MORPH = None\n",
    "#hint, чтобы установка pymorphy2 не была бы обязательной\n",
    "def get_lemmatizer():\n",
    "    import pymorphy2\n",
    "    global MORPH\n",
    "    if MORPH is None: MORPH = pymorphy2.MorphAnalyzer()\n",
    "    return MORPH\n",
    "\n",
    "@convert2lower\n",
    "@convert2unicode\n",
    "def pymorphy_tokenizer(text):\n",
    "    global PYMORPHY_CACHE\n",
    "    for word in easy_tokenizer(text):\n",
    "        word_hash = hash(word)\n",
    "        if word_hash not in PYMORPHY_CACHE:\n",
    "            PYMORPHY_CACHE[word_hash] = get_lemmatizer().parse(word)[0].normal_form            \n",
    "        yield PYMORPHY_CACHE[word_hash]"
   ]
  },
  {
   "cell_type": "markdown",
   "metadata": {},
   "source": [
    "#### Основная функция, которая вызывается для преобразования html в список слов"
   ]
  },
  {
   "cell_type": "code",
   "execution_count": 294,
   "metadata": {},
   "outputs": [],
   "source": [
    "def html2word(raw_html, to_text=html2text, tokenizer=easy_tokenizer):\n",
    "    global parsed\n",
    "    parsed = to_text(raw_html)\n",
    "    return tokenizer(parsed[\"text\"].lower())"
   ]
  },
  {
   "cell_type": "markdown",
   "metadata": {},
   "source": [
    "#### Рассчет финальных метрик"
   ]
  },
  {
   "cell_type": "code",
   "execution_count": 295,
   "metadata": {},
   "outputs": [],
   "source": [
    "def safe_divide(a, b):\n",
    "    if a == 0: return 0.0\n",
    "    elif b == 0: return 0.0\n",
    "    else: return a/b\n",
    "\n",
    "def calculate_metrics(predictions, threshold):    \n",
    "    \"\"\"\n",
    "    Функция подсчета метрик\n",
    "    Параметры\n",
    "    predictions - ранки по документам\n",
    "    threshold  - порог для метрик\n",
    "    \"\"\"\n",
    "    true_positive = 0\n",
    "    false_positive = 0\n",
    "    true_negative = 0\n",
    "    false_negative = 0\n",
    "    for (url_id, mark, url, prediction) in predictions:        \n",
    "        mark_predict = prediction > threshold\n",
    "\n",
    "        if mark_predict:                     \n",
    "            if mark_predict == mark: true_positive += 1\n",
    "            else: false_positive += 1                    \n",
    "        else:                     \n",
    "            if  mark_predict == mark: true_negative += 1\n",
    "            else: false_negative += 1\n",
    "\n",
    "    class_prec  = safe_divide(true_positive, true_positive + false_positive)\n",
    "    class_recall = safe_divide(true_positive, true_positive + false_negative)\n",
    "        \n",
    "    class_F1 = safe_divide(2 * class_prec * class_recall, class_prec + class_recall)\n",
    "    \n",
    "    \n",
    "    not_class_prec = safe_divide(true_negative, true_negative + false_negative)\n",
    "    not_class_recall = safe_divide(true_negative, true_negative + false_positive)\n",
    "    \n",
    "    not_class_F1 = safe_divide(2 * not_class_prec * not_class_recall, not_class_prec + not_class_recall)\n",
    "    \n",
    "    return ( (class_prec, class_recall, class_F1), (not_class_prec, not_class_recall, not_class_F1) )\n",
    "\n",
    "def arange(start, stop, step):\n",
    "    cur_value = start\n",
    "    while True:\n",
    "        if cur_value > stop: break\n",
    "        yield cur_value\n",
    "        cur_value += step\n",
    "\n",
    "def plot_results(docs, min_threshold=-1, max_threshold=1, step=0.1, trace=False):\n",
    "    x = []\n",
    "    y_p = []\n",
    "    y_n = []\n",
    "    docs_predictions = classifier.predict_all(docs)\n",
    "    for threshold in arange(min_threshold, max_threshold, step):\n",
    "        r = calculate_metrics(docs_predictions, threshold)\n",
    "        x.append(threshold)\n",
    "        y_p.append(r[0])\n",
    "        y_n.append(r[1])        \n",
    "        if trace: \n",
    "            print 'threshold %s' % threshold\n",
    "            print '\\tclass_prec %s, class_recall %s, class_F1 %s' % r[0]\n",
    "            print '\\tnot_class_prec %s, not_class_recall %s, not_class_F1 %s' % r[1]\n",
    "            print '\\t\\tMacroF1Mesure %s' % ((r[0][2] + r[1][2])/2)\n",
    "    plot_stats(x, y_p, \"Class Result\")\n",
    "    plot_stats(x, y_n, \"Not class Result\")    \n",
    "\n",
    "\n",
    "def plot_stats(x, y, title):\n",
    "    plt.figure(figsize=(10, 5))\n",
    "\n",
    "    prec, = plt.plot( x, \n",
    "                     [k[0] for k in y], \"r\", label='Precision', \n",
    "                     linewidth=1)\n",
    "    accur, = plt.plot( x, \n",
    "                      [k[1] for k in y], \"b\", label='Recall',\n",
    "                      linewidth=1)\n",
    "    f1, =    plt.plot( x, \n",
    "                      [k[2] for k in y], \"g\", label='F1',\n",
    "                      linewidth=1)\n",
    "    plt.grid(True)\n",
    "    plt.legend(handles=[prec, accur, f1])\n",
    "    plt.title(title)\n",
    "    plt.show()"
   ]
  },
  {
   "cell_type": "code",
   "execution_count": 296,
   "metadata": {},
   "outputs": [],
   "source": [
    "def calc_features(url, html_data, compression_level = 1.3334):\n",
    "    ### words ###\n",
    "    words = list(html2word(html_data))\n",
    "    words_num = len(words)\n",
    "    avg_word_len = np.mean(np.array([len(word) for word in words]))\n",
    "    \n",
    "    title = parsed[\"title\"]\n",
    "    title_words_num = len(title.split(\" \"))\n",
    "    \n",
    "    ### anchor ###\n",
    "    anchor = parsed[\"anchor\"]\n",
    "    \n",
    "    anchor_words_nums = np.array([])\n",
    "    for anch in anchor:\n",
    "        anchor_words = anch.split(\" \")\n",
    "        anchor_words_nums = np.append(anchor_words_nums, np.array([len(anchor_words)]))\n",
    "    \n",
    "    anchor_words_num = np.sum(anchor_words_nums)\n",
    "    anchor_avg_words_num = np.mean(anchor_words_nums)\n",
    "    \n",
    "    # compression level\n",
    "    compression_level = (compression_level - 1.333) * 100000 - 30 # фич инжинеринг категории Б\n",
    "    \n",
    "    # html\n",
    "    dot = url.rfind(\".\")\n",
    "    if url[dot + 1:] == \"html\" or url[dot + 1:] == \"htm\":\n",
    "        html = True\n",
    "    else:\n",
    "        html = False\n",
    "        \n",
    "    # dots\n",
    "    dots = url.count(\".\")\n",
    "    \n",
    "    # slash\n",
    "    slash = url.count(\"/\") - 2\n",
    "    \n",
    "    # url_len\n",
    "    url_len = len(url)\n",
    "    \n",
    "    # img tag\n",
    "    img_tag = parsed[\"imgs\"]\n",
    "    \n",
    "    # table tag\n",
    "    table_tag = parsed[\"tables\"]\n",
    "    \n",
    "    # js\n",
    "    js_tag = parsed[\"js\"]\n",
    "    \n",
    "    # div\n",
    "    div_tag = parsed[\"div\"]\n",
    "\n",
    "    return [len(words),\n",
    "            avg_word_len,\n",
    "            title_words_num,\n",
    "            anchor_words_num,\n",
    "            anchor_avg_words_num,\n",
    "            compression_level,\n",
    "            html,\n",
    "            dots,\n",
    "            slash,\n",
    "            url_len,\n",
    "#             img_tag,\n",
    "            table_tag,\n",
    "            js_tag,\n",
    "            div_tag]"
   ]
  },
  {
   "cell_type": "code",
   "execution_count": 297,
   "metadata": {},
   "outputs": [
    {
     "name": "stdout",
     "output_type": "stream",
     "text": [
      "[10, 4.1, 2, 4.0, 2.0, 9.999999999995595, False, 0, 0, 12, 0, 0, 0]\n"
     ]
    }
   ],
   "source": [
    "test_html_data = u'''\n",
    "<html>\n",
    "<title> Заголовок Ololo </title>\n",
    "спам 1 2 3\n",
    "<a>maria gadost</a>\n",
    "<a>maria ryba</a>\n",
    "</html>\n",
    "'''\n",
    "test_url = 'http://ololo'\n",
    "test_features = calc_features(test_url, test_html_data)\n",
    "print test_features"
   ]
  },
  {
   "cell_type": "code",
   "execution_count": 298,
   "metadata": {},
   "outputs": [],
   "source": [
    "DocItem = namedtuple('DocItem', ['doc_id', 'is_spam', 'url', 'features'])\n",
    "\n",
    "def load_csv(input_file_name, calc_features_f):    \n",
    "    \"\"\"\n",
    "    Загружаем данные и извлекаем на лету признаки\n",
    "    Сам контент не сохраняется, чтобы уменьшить потребление памяти - чтобы\n",
    "    можно было запускать даже на ноутбуках в классе\n",
    "    \"\"\"\n",
    "    \n",
    "    with gzip.open(input_file_name) if input_file_name.endswith('gz') else open(input_file_name)  as input_file:            \n",
    "        headers = input_file.readline()\n",
    "        i = 0\n",
    "        for i, line in enumerate(input_file):\n",
    "            trace(i)\n",
    "            parts = line.strip().split('\\t')\n",
    "            url_id = int(parts[0])                                        \n",
    "            mark = bool(int(parts[1]))                    \n",
    "            url = parts[2]\n",
    "            pageInb64 = parts[3]\n",
    "            html_data = base64.b64decode(pageInb64)\n",
    "            compression_level = len(pageInb64) / len(html_data)\n",
    "            features = calc_features_f(url, html_data, compression_level)\n",
    "#             if i < 100:\n",
    "#                 if mark == 1:\n",
    "#                     print html_data\n",
    "#                     print\n",
    "#                     print\n",
    "            yield DocItem(url_id, mark, url, features)            \n",
    "                \n",
    "        trace(i, 1)        "
   ]
  },
  {
   "cell_type": "markdown",
   "metadata": {},
   "source": [
    "** Обрабатываем входной файл **\n",
    "<br>\n",
    "Формат - поля разделенные табуляциями\n",
    "<br>\n",
    "0 - идентификатор документа\n",
    "<br>\n",
    "1 - метка класса 0 - не спам, 1 - спам\n",
    "<br>\n",
    "2 - урл документа\n",
    "<br>\n",
    "3 - документ в кодировке base64\n",
    "\n",
    "Выходной формат - массив кортежей вида\n",
    "(doc_id, is_spam, url, html_data)"
   ]
  },
  {
   "cell_type": "code",
   "execution_count": 299,
   "metadata": {
    "scrolled": true
   },
   "outputs": [
    {
     "name": "stderr",
     "output_type": "stream",
     "text": [
      "23:36:18 INFO:Complete items 00000\n",
      "23:36:32 INFO:Complete items 01000\n",
      "23:36:42 INFO:Complete items 02000\n",
      "23:36:53 INFO:Complete items 03000\n",
      "23:37:04 INFO:Complete items 04000\n",
      "23:37:16 INFO:Complete items 05000\n",
      "23:37:27 INFO:Complete items 06000\n",
      "23:37:39 INFO:Complete items 07000\n",
      "23:37:39 INFO:Complete items 07043\n"
     ]
    }
   ],
   "source": [
    "TRAIN_DATA_FILE  = 'kaggle_train_data_tab.csv.gz'\n",
    "\n",
    "train_docs = list(load_csv(TRAIN_DATA_FILE, calc_features))"
   ]
  },
  {
   "cell_type": "code",
   "execution_count": 300,
   "metadata": {},
   "outputs": [
    {
     "data": {
      "image/png": "[encoded data removed]",
      "text/plain": [
       "<Figure size 432x288 with 1 Axes>"
      ]
     },
     "metadata": {
      "needs_background": "light"
     },
     "output_type": "display_data"
    }
   ],
   "source": [
    "is_spam_data = [doc.features[0] for doc in train_docs if doc[1] == True]\n",
    "not_spam_data = [doc.features[0] for doc in train_docs if doc[1] == False]\n",
    "bins = range(0,3000,10)\n",
    "plt.hist(is_spam_data, bins=bins, color='red', normed=True, alpha=0.7, label='spam')\n",
    "plt.hist(not_spam_data, bins=bins, color='blue', normed=True, alpha=0.7, label='not_spam')\n",
    "plt.title('NumWords')\n",
    "plt.legend()\n",
    "plt.show()"
   ]
  },
  {
   "cell_type": "code",
   "execution_count": 301,
   "metadata": {},
   "outputs": [
    {
     "data": {
      "image/png": "[encoded data removed]",
      "text/plain": [
       "<Figure size 432x288 with 1 Axes>"
      ]
     },
     "metadata": {
      "needs_background": "light"
     },
     "output_type": "display_data"
    }
   ],
   "source": [
    "is_spam_data = [doc.features[1] for doc in train_docs if doc[1] == True]\n",
    "not_spam_data = [doc.features[1] for doc in train_docs if doc[1] == False]\n",
    "bins = 100\n",
    "plt.hist(is_spam_data, bins=bins, color='red', normed=True, alpha=0.7, label='spam')\n",
    "plt.hist(not_spam_data, bins=bins, color='blue', normed=True, alpha=0.7, label='not_spam')\n",
    "plt.title('AvgWordLen')\n",
    "plt.legend()\n",
    "plt.show()"
   ]
  },
  {
   "cell_type": "code",
   "execution_count": 302,
   "metadata": {},
   "outputs": [
    {
     "data": {
      "image/png": "[encoded data removed]",
      "text/plain": [
       "<Figure size 432x288 with 1 Axes>"
      ]
     },
     "metadata": {
      "needs_background": "light"
     },
     "output_type": "display_data"
    }
   ],
   "source": [
    "is_spam_data = [doc.features[2] for doc in train_docs if doc[1] == True]\n",
    "not_spam_data = [doc.features[2] for doc in train_docs if doc[1] == False]\n",
    "bins = range(0, 100, 1)\n",
    "plt.hist(is_spam_data, bins=bins, color='red', normed=True, alpha=0.7, label='spam')\n",
    "plt.hist(not_spam_data, bins=bins, color='blue', normed=True, alpha=0.7, label='not_spam')\n",
    "plt.title('NumWordsTitle')\n",
    "plt.legend()\n",
    "plt.show()"
   ]
  },
  {
   "cell_type": "code",
   "execution_count": 303,
   "metadata": {},
   "outputs": [
    {
     "data": {
      "image/png": "[encoded data removed]",
      "text/plain": [
       "<Figure size 432x288 with 1 Axes>"
      ]
     },
     "metadata": {
      "needs_background": "light"
     },
     "output_type": "display_data"
    }
   ],
   "source": [
    "is_spam_data = [doc.features[3] for doc in train_docs if doc[1] == True]\n",
    "not_spam_data = [doc.features[3] for doc in train_docs if doc[1] == False]\n",
    "bins = range(0, 100, 1)\n",
    "plt.hist(is_spam_data, bins=bins, color='red', normed=True, alpha=0.7, label='spam')\n",
    "plt.hist(not_spam_data, bins=bins, color='blue', normed=True, alpha=0.7, label='not_spam')\n",
    "plt.title('anchor_words_num')\n",
    "plt.legend()\n",
    "plt.show()"
   ]
  },
  {
   "cell_type": "code",
   "execution_count": 304,
   "metadata": {},
   "outputs": [
    {
     "data": {
      "image/png": "[encoded data removed]",
      "text/plain": [
       "<Figure size 432x288 with 1 Axes>"
      ]
     },
     "metadata": {
      "needs_background": "light"
     },
     "output_type": "display_data"
    }
   ],
   "source": [
    "is_spam_data = [doc.features[4] for doc in train_docs if doc[1] == True]\n",
    "not_spam_data = [doc.features[4] for doc in train_docs if doc[1] == False]\n",
    "bins = range(0, 30, 1)\n",
    "plt.hist(is_spam_data, bins=bins, color='red', normed=True, alpha=0.7, label='spam')\n",
    "plt.hist(not_spam_data, bins=bins, color='blue', normed=True, alpha=0.7, label='not_spam')\n",
    "plt.title('anchor_avg_words_num')\n",
    "plt.legend()\n",
    "plt.show()"
   ]
  },
  {
   "cell_type": "code",
   "execution_count": 305,
   "metadata": {},
   "outputs": [
    {
     "data": {
      "image/png": "[encoded data removed]",
      "text/plain": [
       "<Figure size 432x288 with 1 Axes>"
      ]
     },
     "metadata": {
      "needs_background": "light"
     },
     "output_type": "display_data"
    }
   ],
   "source": [
    "is_spam_data = [doc.features[5] for doc in train_docs if doc[1] == True]\n",
    "not_spam_data = [doc.features[5] for doc in train_docs if doc[1] == False]\n",
    "bins = range(0, 50, 1)\n",
    "plt.hist(is_spam_data, bins=bins, color='red', normed=True, alpha=0.7, label='spam')\n",
    "plt.hist(not_spam_data, bins=bins, color='blue', normed=True, alpha=0.7, label='not_spam')\n",
    "plt.title('compression_level')\n",
    "plt.legend()\n",
    "plt.show()"
   ]
  },
  {
   "cell_type": "code",
   "execution_count": 306,
   "metadata": {
    "scrolled": false
   },
   "outputs": [
    {
     "data": {
      "image/png": "[encoded data removed]",
      "text/plain": [
       "<Figure size 432x288 with 1 Axes>"
      ]
     },
     "metadata": {
      "needs_background": "light"
     },
     "output_type": "display_data"
    }
   ],
   "source": [
    "is_spam_data = [doc.features[6] for doc in train_docs if doc[1] == True]\n",
    "not_spam_data = [doc.features[6] for doc in train_docs if doc[1] == False]\n",
    "bins = range(0, 3, 1)\n",
    "plt.hist(is_spam_data, bins=bins, color='red', normed=True, alpha=0.7, label='spam')\n",
    "plt.hist(not_spam_data, bins=bins, color='blue', normed=True, alpha=0.7, label='not_spam')\n",
    "plt.title('html')\n",
    "plt.legend()\n",
    "plt.show()"
   ]
  },
  {
   "cell_type": "code",
   "execution_count": 307,
   "metadata": {},
   "outputs": [
    {
     "data": {
      "image/png": "[encoded data removed]",
      "text/plain": [
       "<Figure size 432x288 with 1 Axes>"
      ]
     },
     "metadata": {
      "needs_background": "light"
     },
     "output_type": "display_data"
    }
   ],
   "source": [
    "is_spam_data = [doc.features[7] for doc in train_docs if doc[1] == True]\n",
    "not_spam_data = [doc.features[7] for doc in train_docs if doc[1] == False]\n",
    "bins = range(0, 6, 1)\n",
    "plt.hist(is_spam_data, bins=bins, color='red', normed=True, alpha=0.7, label='spam')\n",
    "plt.hist(not_spam_data, bins=bins, color='blue', normed=True, alpha=0.7, label='not_spam')\n",
    "plt.title('dots')\n",
    "plt.legend()\n",
    "plt.show()"
   ]
  },
  {
   "cell_type": "code",
   "execution_count": 308,
   "metadata": {},
   "outputs": [
    {
     "data": {
      "image/png": "[encoded data removed]",
      "text/plain": [
       "<Figure size 432x288 with 1 Axes>"
      ]
     },
     "metadata": {
      "needs_background": "light"
     },
     "output_type": "display_data"
    }
   ],
   "source": [
    "is_spam_data = [doc.features[8] for doc in train_docs if doc[1] == True]\n",
    "not_spam_data = [doc.features[8] for doc in train_docs if doc[1] == False]\n",
    "bins = range(0, 6, 1)\n",
    "plt.hist(is_spam_data, bins=bins, color='red', normed=True, alpha=0.7, label='spam')\n",
    "plt.hist(not_spam_data, bins=bins, color='blue', normed=True, alpha=0.7, label='not_spam')\n",
    "plt.title('slash')\n",
    "plt.legend()\n",
    "plt.show()"
   ]
  },
  {
   "cell_type": "code",
   "execution_count": 309,
   "metadata": {},
   "outputs": [
    {
     "data": {
      "image/png": "[encoded data removed]",
      "text/plain": [
       "<Figure size 432x288 with 1 Axes>"
      ]
     },
     "metadata": {
      "needs_background": "light"
     },
     "output_type": "display_data"
    }
   ],
   "source": [
    "is_spam_data = [doc.features[9] for doc in train_docs if doc[1] == True]\n",
    "not_spam_data = [doc.features[9] for doc in train_docs if doc[1] == False]\n",
    "bins = range(0, 100, 1)\n",
    "plt.hist(is_spam_data, bins=bins, color='red', normed=True, alpha=0.7, label='spam')\n",
    "plt.hist(not_spam_data, bins=bins, color='blue', normed=True, alpha=0.7, label='not_spam')\n",
    "plt.title('url_len')\n",
    "plt.legend()\n",
    "plt.show()"
   ]
  },
  {
   "cell_type": "code",
   "execution_count": 310,
   "metadata": {},
   "outputs": [],
   "source": [
    "# is_spam_data = [doc.features[10] for doc in train_docs if doc[1] == True]\n",
    "# not_spam_data = [doc.features[10] for doc in train_docs if doc[1] == False]\n",
    "# bins = range(0, 50, 1)\n",
    "# plt.hist(is_spam_data, bins=bins, color='red', normed=True, alpha=0.7, label='spam')\n",
    "# plt.hist(not_spam_data, bins=bins, color='blue', normed=True, alpha=0.7, label='not_spam')\n",
    "# plt.title('img_tag')\n",
    "# plt.legend()\n",
    "# plt.show()"
   ]
  },
  {
   "cell_type": "code",
   "execution_count": 311,
   "metadata": {},
   "outputs": [
    {
     "data": {
      "image/png": "[encoded data removed]",
      "text/plain": [
       "<Figure size 432x288 with 1 Axes>"
      ]
     },
     "metadata": {
      "needs_background": "light"
     },
     "output_type": "display_data"
    }
   ],
   "source": [
    "is_spam_data = [doc.features[10] for doc in train_docs if doc[1] == True]\n",
    "not_spam_data = [doc.features[10] for doc in train_docs if doc[1] == False]\n",
    "bins = range(0, 50, 1)\n",
    "plt.hist(is_spam_data, bins=bins, color='red', normed=True, alpha=0.7, label='spam')\n",
    "plt.hist(not_spam_data, bins=bins, color='blue', normed=True, alpha=0.7, label='not_spam')\n",
    "plt.title('table_tag')\n",
    "plt.legend()\n",
    "plt.show()"
   ]
  },
  {
   "cell_type": "code",
   "execution_count": 312,
   "metadata": {},
   "outputs": [
    {
     "data": {
      "image/png": "[encoded data removed]",
      "text/plain": [
       "<Figure size 432x288 with 1 Axes>"
      ]
     },
     "metadata": {
      "needs_background": "light"
     },
     "output_type": "display_data"
    }
   ],
   "source": [
    "is_spam_data = [doc.features[11] for doc in train_docs if doc[1] == True]\n",
    "not_spam_data = [doc.features[11] for doc in train_docs if doc[1] == False]\n",
    "bins = range(0, 50, 1)\n",
    "plt.hist(is_spam_data, bins=bins, color='red', normed=True, alpha=0.7, label='spam')\n",
    "plt.hist(not_spam_data, bins=bins, color='blue', normed=True, alpha=0.7, label='not_spam')\n",
    "plt.title('js_tag')\n",
    "plt.legend()\n",
    "plt.show()"
   ]
  },
  {
   "cell_type": "code",
   "execution_count": 313,
   "metadata": {},
   "outputs": [
    {
     "data": {
      "image/png": "[encoded data removed]",
      "text/plain": [
       "<Figure size 432x288 with 1 Axes>"
      ]
     },
     "metadata": {
      "needs_background": "light"
     },
     "output_type": "display_data"
    }
   ],
   "source": [
    "is_spam_data = [doc.features[12] for doc in train_docs if doc[1] == True]\n",
    "not_spam_data = [doc.features[12] for doc in train_docs if doc[1] == False]\n",
    "bins = range(0, 50, 1)\n",
    "plt.hist(is_spam_data, bins=bins, color='red', normed=True, alpha=0.7, label='spam')\n",
    "plt.hist(not_spam_data, bins=bins, color='blue', normed=True, alpha=0.7, label='not_spam')\n",
    "plt.title('div_tag')\n",
    "plt.legend()\n",
    "plt.show()"
   ]
  },
  {
   "cell_type": "markdown",
   "metadata": {},
   "source": [
    "** Классификатор: **\n",
    "Нужно реализовать  \n",
    "(.)(.)"
   ]
  },
  {
   "cell_type": "code",
   "execution_count": 314,
   "metadata": {},
   "outputs": [],
   "source": [
    "from sklearn.ensemble import GradientBoostingClassifier\n",
    "from sklearn.ensemble import RandomForestClassifier\n",
    "\n",
    "class Classifier:\n",
    "    \n",
    "    def __init__(self):\n",
    "        self.clf = GradientBoostingClassifier(n_estimators = 1000, min_samples_split = 4, max_depth = 3)\n",
    "#         self.clf = RandomForestClassifier()\n",
    "    \n",
    "    def predict(self, doc):\n",
    "        features = np.array([doc.features])\n",
    "        features = np.nan_to_num(features)\n",
    "        return self.clf.predict(features)                   \n",
    "    \n",
    "    def predict_all(self, docs):\n",
    "        res = []\n",
    "        for doc_num, doc in enumerate(docs):\n",
    "            trace(doc_num)\n",
    "            prediction = self.predict(doc)            \n",
    "            res.append( (doc.doc_id, doc.is_spam, doc.url, prediction) )\n",
    "        return res\n",
    "    \n",
    "    def train(self, docs):                \n",
    "#         for doc_num, doc in enumerate(docs):                            \n",
    "#             #TODO вставить код обучения\n",
    "#             trace(doc_num)\n",
    "#         trace(doc_num, 1)\n",
    "        features = np.array([doc.features for doc in docs]).astype(\"float32\")\n",
    "        targets =  np.array([doc.is_spam for doc in docs]).astype(\"float32\")\n",
    "        features = np.nan_to_num(features)\n",
    "        targets = np.nan_to_num(targets)\n",
    "\n",
    "        self.clf = self.clf.fit(features, targets)"
   ]
  },
  {
   "cell_type": "code",
   "execution_count": 315,
   "metadata": {
    "scrolled": true
   },
   "outputs": [
    {
     "name": "stdout",
     "output_type": "stream",
     "text": [
      "CPU times: user 5 µs, sys: 0 ns, total: 5 µs\n",
      "Wall time: 5.01 µs\n"
     ]
    }
   ],
   "source": [
    "from sklearn.model_selection import train_test_split\n",
    "\n",
    "train = train_docs\n",
    "test = train_docs[6500:]\n",
    "\n",
    "classifier = Classifier()\n",
    "%time\n",
    "classifier.train(train)"
   ]
  },
  {
   "cell_type": "code",
   "execution_count": 316,
   "metadata": {},
   "outputs": [
    {
     "data": {
      "text/plain": [
       "array([0.], dtype=float32)"
      ]
     },
     "execution_count": 316,
     "metadata": {},
     "output_type": "execute_result"
    }
   ],
   "source": [
    "#Посмотреть, что предсказывается для тестового html\n",
    "classifier.predict(DocItem(0, 0, test_url , test_features))"
   ]
  },
  {
   "cell_type": "markdown",
   "metadata": {},
   "source": [
    "** Рисуем графики **"
   ]
  },
  {
   "cell_type": "code",
   "execution_count": 317,
   "metadata": {},
   "outputs": [
    {
     "name": "stderr",
     "output_type": "stream",
     "text": [
      "23:38:48 INFO:Complete items 00000\n"
     ]
    },
    {
     "name": "stdout",
     "output_type": "stream",
     "text": [
      "threshold 0\n",
      "\tclass_prec 0.993610223642, class_recall 0.990445859873, class_F1 0.992025518341\n",
      "\tnot_class_prec 0.987012987013, not_class_recall 0.991304347826, not_class_F1 0.989154013015\n",
      "\t\tMacroF1Mesure 0.990589765678\n",
      "threshold 0.1\n",
      "\tclass_prec 0.993610223642, class_recall 0.990445859873, class_F1 0.992025518341\n",
      "\tnot_class_prec 0.987012987013, not_class_recall 0.991304347826, not_class_F1 0.989154013015\n",
      "\t\tMacroF1Mesure 0.990589765678\n",
      "threshold 0.2\n",
      "\tclass_prec 0.993610223642, class_recall 0.990445859873, class_F1 0.992025518341\n",
      "\tnot_class_prec 0.987012987013, not_class_recall 0.991304347826, not_class_F1 0.989154013015\n",
      "\t\tMacroF1Mesure 0.990589765678\n",
      "threshold 0.3\n",
      "\tclass_prec 0.993610223642, class_recall 0.990445859873, class_F1 0.992025518341\n",
      "\tnot_class_prec 0.987012987013, not_class_recall 0.991304347826, not_class_F1 0.989154013015\n",
      "\t\tMacroF1Mesure 0.990589765678\n",
      "threshold 0.4\n",
      "\tclass_prec 0.993610223642, class_recall 0.990445859873, class_F1 0.992025518341\n",
      "\tnot_class_prec 0.987012987013, not_class_recall 0.991304347826, not_class_F1 0.989154013015\n",
      "\t\tMacroF1Mesure 0.990589765678\n",
      "threshold 0.5\n",
      "\tclass_prec 0.993610223642, class_recall 0.990445859873, class_F1 0.992025518341\n",
      "\tnot_class_prec 0.987012987013, not_class_recall 0.991304347826, not_class_F1 0.989154013015\n",
      "\t\tMacroF1Mesure 0.990589765678\n",
      "threshold 0.6\n",
      "\tclass_prec 0.993610223642, class_recall 0.990445859873, class_F1 0.992025518341\n",
      "\tnot_class_prec 0.987012987013, not_class_recall 0.991304347826, not_class_F1 0.989154013015\n",
      "\t\tMacroF1Mesure 0.990589765678\n",
      "threshold 0.7\n",
      "\tclass_prec 0.993610223642, class_recall 0.990445859873, class_F1 0.992025518341\n",
      "\tnot_class_prec 0.987012987013, not_class_recall 0.991304347826, not_class_F1 0.989154013015\n",
      "\t\tMacroF1Mesure 0.990589765678\n",
      "threshold 0.8\n",
      "\tclass_prec 0.993610223642, class_recall 0.990445859873, class_F1 0.992025518341\n",
      "\tnot_class_prec 0.987012987013, not_class_recall 0.991304347826, not_class_F1 0.989154013015\n",
      "\t\tMacroF1Mesure 0.990589765678\n",
      "threshold 0.9\n",
      "\tclass_prec 0.993610223642, class_recall 0.990445859873, class_F1 0.992025518341\n",
      "\tnot_class_prec 0.987012987013, not_class_recall 0.991304347826, not_class_F1 0.989154013015\n",
      "\t\tMacroF1Mesure 0.990589765678\n",
      "threshold 1.0\n",
      "\tclass_prec 0.0, class_recall 0.0, class_F1 0.0\n",
      "\tnot_class_prec 0.422794117647, not_class_recall 1.0, not_class_F1 0.594315245478\n",
      "\t\tMacroF1Mesure 0.297157622739\n"
     ]
    },
    {
     "data": {
      "image/png": "[encoded data removed]",
      "text/plain": [
       "<Figure size 720x360 with 1 Axes>"
      ]
     },
     "metadata": {
      "needs_background": "light"
     },
     "output_type": "display_data"
    },
    {
     "data": {
      "image/png": "[encoded data removed]",
      "text/plain": [
       "<Figure size 720x360 with 1 Axes>"
      ]
     },
     "metadata": {
      "needs_background": "light"
     },
     "output_type": "display_data"
    }
   ],
   "source": [
    "plot_results(test, min_threshold=0, max_threshold=1, step=0.1, trace=1)"
   ]
  },
  {
   "cell_type": "code",
   "execution_count": 318,
   "metadata": {},
   "outputs": [
    {
     "name": "stderr",
     "output_type": "stream",
     "text": [
      "23:38:48 INFO:Complete items 00000\n",
      "23:38:48 INFO:Complete items 00000\n",
      "23:39:05 INFO:Complete items 01000\n",
      "23:39:05 INFO:Complete items 01000\n",
      "23:39:20 INFO:Complete items 02000\n",
      "23:39:20 INFO:Complete items 02000\n",
      "23:39:34 INFO:Complete items 03000\n",
      "23:39:34 INFO:Complete items 03000\n",
      "23:39:47 INFO:Complete items 04000\n",
      "23:39:47 INFO:Complete items 04000\n",
      "23:39:59 INFO:Complete items 05000\n",
      "23:39:59 INFO:Complete items 05000\n",
      "23:40:14 INFO:Complete items 06000\n",
      "23:40:14 INFO:Complete items 06000\n",
      "23:40:27 INFO:Complete items 07000\n",
      "23:40:27 INFO:Complete items 07000\n",
      "23:40:40 INFO:Complete items 08000\n",
      "23:40:40 INFO:Complete items 08000\n",
      "23:40:53 INFO:Complete items 09000\n",
      "23:40:53 INFO:Complete items 09000\n",
      "23:41:11 INFO:Complete items 10000\n",
      "23:41:11 INFO:Complete items 10000\n",
      "23:41:24 INFO:Complete items 11000\n",
      "23:41:24 INFO:Complete items 11000\n",
      "23:41:38 INFO:Complete items 12000\n",
      "23:41:38 INFO:Complete items 12000\n",
      "23:41:50 INFO:Complete items 13000\n",
      "23:41:50 INFO:Complete items 13000\n",
      "23:42:04 INFO:Complete items 14000\n",
      "23:42:04 INFO:Complete items 14000\n",
      "23:42:17 INFO:Complete items 15000\n",
      "23:42:17 INFO:Complete items 15000\n",
      "23:42:32 INFO:Complete items 16000\n",
      "23:42:32 INFO:Complete items 16000\n",
      "23:42:33 INFO:Complete items 16038\n"
     ]
    }
   ],
   "source": [
    "TEST_DATA_FILE  = 'kaggle_test_data_tab.csv.gz'\n",
    "# TEST_DATA_FILE  = 'kaggle/kaggle_train_data_tab_300.csv.gz'\n",
    "\n",
    "test_docs = load_csv(TEST_DATA_FILE, calc_features)\n",
    "\n",
    "threshold = 0.5\n",
    "\n",
    "with open('my_submission.csv' , 'wb') as fout:\n",
    "    writer = csv.writer(fout)\n",
    "    writer.writerow(['Id','Prediction'])\n",
    "    for item in classifier.predict_all(test_docs):\n",
    "        prediction =  1 if item[3] > threshold else 0\n",
    "        writer.writerow([item[0], prediction])"
   ]
  },
  {
   "cell_type": "code",
   "execution_count": null,
   "metadata": {},
   "outputs": [],
   "source": []
  }
 ],
 "metadata": {
  "anaconda-cloud": {},
  "kernelspec": {
   "display_name": "Python 2",
   "language": "python",
   "name": "python2"
  },
  "language_info": {
   "codemirror_mode": {
    "name": "ipython",
    "version": 2
   },
   "file_extension": ".py",
   "mimetype": "text/x-python",
   "name": "python",
   "nbconvert_exporter": "python",
   "pygments_lexer": "ipython2",
   "version": "2.7.15rc1"
  }
 },
 "nbformat": 4,
 "nbformat_minor": 1
}
